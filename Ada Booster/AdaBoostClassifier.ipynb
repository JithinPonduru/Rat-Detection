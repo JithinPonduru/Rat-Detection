{
 "cells": [
  {
   "cell_type": "code",
   "execution_count": null,
   "metadata": {},
   "outputs": [],
   "source": [
    "import numpy as np \n",
    "import pandas as pd\n",
    "import matplotlib.pyplot as plt\n",
    "import seaborn as sns\n",
    "import warnings\n",
    "warnings.filterwarnings('ignore')"
   ]
  },
  {
   "cell_type": "code",
   "execution_count": null,
   "metadata": {},
   "outputs": [],
   "source": [
    "from sklearn.model_selection import train_test_split as tts"
   ]
  },
  {
   "cell_type": "code",
   "execution_count": null,
   "metadata": {},
   "outputs": [],
   "source": [
    "df0  = pd.read_csv('RAT01.csv',header=0,index_col='No.')\n",
    "df1 = pd.read_csv('RAT02.csv',header=0,index_col='No.')\n",
    "df2 = pd.read_csv('RAT03.csv',header=0,index_col='No.')\n",
    "df3 = pd.read_csv('RAT04.csv',header=0,index_col='No.')\n",
    "df4 = pd.read_csv('RAT05.csv',header=0,index_col='No.')\n",
    "df5 = pd.read_csv('RAT06.csv',header=0,index_col='No.')\n",
    "df6 = pd.read_csv('RAT07.csv',header=0,index_col='No.')\n",
    "df7 = pd.read_csv('RAT08.csv',header=0,index_col='No.')\n",
    "df8 = pd.read_csv('P3.csv',header= 0 , index_col='No.',encoding='gbk')\n",
    "df9 = pd.read_csv('P4.csv',header= 0 , index_col='No.',encoding='gbk')\n",
    "df10 = pd.read_csv('P2.csv',header= 0 , index_col='No.',encoding='gbk')"
   ]
  },
  {
   "cell_type": "code",
   "execution_count": null,
   "metadata": {},
   "outputs": [],
   "source": [
    "df8.head()"
   ]
  },
  {
   "cell_type": "code",
   "execution_count": null,
   "metadata": {},
   "outputs": [],
   "source": [
    "import pandas as pd\n",
    "dfs = []  # List to store the DataFrames\n",
    "\n",
    "for i in range(1, 9):\n",
    "   file_name = f'RAT0{i}.csv'  # Construct the file name\n",
    "   df = pd.read_csv(file_name)  # Read the CSV file into a DataFrame\n",
    "   df['Target'] = file_name[:-4]# Add an 'Target' column with values as filename without extection\n",
    "   df.drop('No.', axis=1, inplace=True)  # Drop the 'No.' column\n",
    "   dfs.append(df)  # Append the DataFrame to the list\n",
    "df_merge = pd.concat(dfs)\n",
    "#make index column as 'No.'\n",
    "# Print the first few rows of the DataFrame where 'Malicious' is equal to 1\n",
    "df_merge.index.name = 'No.'\n",
    "df_merge['Info'].head()\n",
    "\n",
    "# dfs =[df,df1,df2,df3,df4,df5,df6,df7]\n",
    "# df_merge = pd.concat(dfs,ignore_index=True)"
   ]
  },
  {
   "cell_type": "code",
   "execution_count": null,
   "metadata": {},
   "outputs": [],
   "source": [
    "df_merge.shape"
   ]
  },
  {
   "cell_type": "code",
   "execution_count": null,
   "metadata": {},
   "outputs": [],
   "source": []
  },
  {
   "cell_type": "code",
   "execution_count": null,
   "metadata": {},
   "outputs": [],
   "source": [
    "df_merge['Malicious'] = 1\n",
    "df8['Target'] = 'Benign'\n",
    "df9['Target'] = 'Benign'\n",
    "df10['Target'] = 'Benign'\n",
    "df8['Malicious'] = 0\n",
    "df9['Malicious'] = 0\n",
    "df10['Malicious'] = 0\n",
    "df_merge.head()\n"
   ]
  },
  {
   "cell_type": "code",
   "execution_count": null,
   "metadata": {},
   "outputs": [],
   "source": [
    "#Now cut down the size of df_merge to 413081 rows\n",
    "df_merge = df_merge.sample(n=413081, random_state=1)    \n"
   ]
  },
  {
   "cell_type": "code",
   "execution_count": null,
   "metadata": {},
   "outputs": [],
   "source": [
    "df_merge.shape"
   ]
  },
  {
   "cell_type": "code",
   "execution_count": null,
   "metadata": {},
   "outputs": [],
   "source": [
    "df_merge = pd.concat([df_merge,df8,df9,df10],ignore_index=True)\n",
    "df_merge.index.name = 'No.'\n",
    "df_merge.dropna()"
   ]
  },
  {
   "cell_type": "code",
   "execution_count": null,
   "metadata": {},
   "outputs": [],
   "source": [
    "src = []\n",
    "dst = []\n",
    "for i in range(len(df_merge)):\n",
    "    if df_merge['Malicious'][i] == 1:\n",
    "        src.append(df_merge['Source'][i])\n",
    "        dst.append(df_merge['Destination'][i])\n"
   ]
  },
  {
   "cell_type": "code",
   "execution_count": null,
   "metadata": {},
   "outputs": [],
   "source": [
    "from collections import Counter\n",
    "\n",
    "counter = Counter(src)\n",
    "counter.most_common()\n",
    "element_to_remove = '10.8.0.61'\n",
    "counter.subtract({element_to_remove: counter[element_to_remove]}) # removing your own ip address as source\n",
    "counter1 = Counter(dst)\n",
    "counter1.most_common()\n",
    "counter1.subtract({element_to_remove: counter[element_to_remove]}) # removing your own ip address as destination\n"
   ]
  },
  {
   "cell_type": "code",
   "execution_count": null,
   "metadata": {},
   "outputs": [],
   "source": [
    "counter1"
   ]
  },
  {
   "cell_type": "code",
   "execution_count": null,
   "metadata": {},
   "outputs": [],
   "source": [
    "import re\n",
    "Source_ports = []\n",
    "Destination_ports= []\n",
    "for i in range(len(df_merge['Info'])):\n",
    "    text = str(df_merge['Info'][i])\n",
    "    # Use a regular expression to extract the desired part\n",
    "    match = re.search(r'(\\d+\\s{2}\\>\\s{2}\\d+)', text)\n",
    "\n",
    "    if match:\n",
    "        result = match.group(1)\n",
    "        result=result.split('  ')\n",
    "        if '>' in result:\n",
    "            result.remove('>')\n",
    "        t = int(result[0])\n",
    "        Source_ports.append(t)\n",
    "        t1 = int(result[1])\n",
    "        Destination_ports.append(t1)\n",
    "        #This is a Source ip and Source port number tuple\n",
    "    else:\n",
    "        Source_ports.append(0)\n",
    "        Destination_ports.append(0)"
   ]
  },
  {
   "cell_type": "code",
   "execution_count": null,
   "metadata": {},
   "outputs": [],
   "source": [
    "df_merge['Source_port'] = Source_ports\n",
    "df_merge['Destination_port'] = Destination_ports\n",
    "df_merge.head()"
   ]
  },
  {
   "cell_type": "code",
   "execution_count": null,
   "metadata": {},
   "outputs": [],
   "source": [
    "Y = df_merge['Malicious']\n",
    "X = df_merge.drop('Malicious',axis=1)\n"
   ]
  },
  {
   "cell_type": "code",
   "execution_count": null,
   "metadata": {},
   "outputs": [],
   "source": [
    "X.Source.value_counts().sort_values(ascending=False).head(50)"
   ]
  },
  {
   "cell_type": "code",
   "execution_count": null,
   "metadata": {},
   "outputs": [],
   "source": [
    "top_10 = [x for x in X.Source.value_counts().sort_values(ascending=False).head(50).index]\n",
    "top_10 "
   ]
  },
  {
   "cell_type": "code",
   "execution_count": null,
   "metadata": {},
   "outputs": [],
   "source": [
    "for label in top_10:\n",
    "    X[label]=np.where(X['Source']==label,1,0)\n",
    "X[['Source']+top_10].head(5)"
   ]
  },
  {
   "cell_type": "code",
   "execution_count": null,
   "metadata": {},
   "outputs": [],
   "source": [
    "top_10 = [x for x in X.Destination.value_counts().sort_values(ascending=False).head(50).index]\n",
    "top_10                                                                                  "
   ]
  },
  {
   "cell_type": "code",
   "execution_count": null,
   "metadata": {},
   "outputs": [],
   "source": [
    "for label in top_10:\n",
    "    X[label]=np.where(X['Destination']==label,1,0)\n",
    "X[['Destination']+top_10].head(5)"
   ]
  },
  {
   "cell_type": "code",
   "execution_count": null,
   "metadata": {},
   "outputs": [],
   "source": [
    "top_10 = [x for x in X.Protocol.value_counts().sort_values(ascending=False).head(50).index]\n",
    "top_10"
   ]
  },
  {
   "cell_type": "code",
   "execution_count": null,
   "metadata": {},
   "outputs": [],
   "source": [
    "for label in top_10:\n",
    "    X[label]=np.where(X['Protocol']==label,1,0)\n",
    "X[['Protocol']+top_10].head(5)"
   ]
  },
  {
   "cell_type": "code",
   "execution_count": null,
   "metadata": {},
   "outputs": [],
   "source": [
    "X.drop(['Source','Destination','Protocol','Info','Target'],axis=1,inplace=True)\n",
    "X.shape"
   ]
  },
  {
   "cell_type": "code",
   "execution_count": null,
   "metadata": {},
   "outputs": [],
   "source": [
    "X"
   ]
  },
  {
   "cell_type": "code",
   "execution_count": null,
   "metadata": {},
   "outputs": [],
   "source": [
    "df_merge.head()"
   ]
  },
  {
   "cell_type": "code",
   "execution_count": null,
   "metadata": {},
   "outputs": [],
   "source": [
    "# from imblearn.over_sampling import SMOTE\n",
    "# sm = SMOTE(sampling_strategy='auto',random_state=42)\n",
    "# x_res,y_res = sm.fit_resample(X,Y)"
   ]
  },
  {
   "cell_type": "code",
   "execution_count": null,
   "metadata": {},
   "outputs": [],
   "source": [
    "X"
   ]
  },
  {
   "cell_type": "code",
   "execution_count": null,
   "metadata": {},
   "outputs": [],
   "source": [
    "from sklearn.model_selection import train_test_split as tts\n",
    "x_train,x_test,y_train,y_test = tts(X.values,Y.values,test_size=.3,random_state=128)"
   ]
  },
  {
   "cell_type": "code",
   "execution_count": null,
   "metadata": {},
   "outputs": [],
   "source": [
    "# Assuming your DataFrame is named df_merge\n",
    "df_merge.reset_index(drop=True, inplace=True)\n"
   ]
  },
  {
   "cell_type": "code",
   "execution_count": null,
   "metadata": {},
   "outputs": [],
   "source": [
    "from sklearn.preprocessing import StandardScaler\n",
    "sc = StandardScaler()\n",
    "x_train = sc.fit_transform(x_train)\n",
    "x_test = sc.transform(x_test)"
   ]
  },
  {
   "cell_type": "markdown",
   "metadata": {},
   "source": [
    "# AdaBoostClassifier"
   ]
  },
  {
   "cell_type": "code",
   "execution_count": null,
   "metadata": {},
   "outputs": [],
   "source": [
    "# Applying AdaBoost Classifier\n",
    "from sklearn.ensemble import AdaBoostClassifier\n",
    "ab = AdaBoostClassifier(n_estimators=3)\n",
    "ab.fit(x_train, y_train)\n",
    "ab.score(x_test, y_test)\n"
   ]
  },
  {
   "cell_type": "code",
   "execution_count": null,
   "metadata": {},
   "outputs": [],
   "source": [
    "#ploting confusion matrix for AdaBoost\n",
    "import seaborn as sns\n",
    "sns.heatmap(cmat, annot=True, fmt='d', cmap='Blues', xticklabels=clf.classes_, yticklabels=clf.classes_)\n",
    "plt.xlabel('Predicted')\n",
    "plt.ylabel('Actual')\n",
    "plt.title('Confusion Matrix AdaBoost')\n",
    "plt.show()\n"
   ]
  },
  {
   "cell_type": "code",
   "execution_count": null,
   "metadata": {},
   "outputs": [],
   "source": [
    "#classification_report for AdaBoost\n",
    "from sklearn.metrics import classification_report\n",
    "\n",
    "\n",
    "y_pred_dt = ab.predict(x_test)\n",
    "print(\"classification_report of AdaBoost\\n\")\n",
    "print(classification_report(y_test,y_pred_dt))\n"
   ]
  },
  {
   "cell_type": "code",
   "execution_count": null,
   "metadata": {},
   "outputs": [],
   "source": [
    "from sklearn.metrics import roc_curve, auc\n",
    "from sklearn.preprocessing import label_binarize\n",
    "from sklearn.metrics import roc_auc_score\n",
    "\n",
    "# Binarize the output for binary classification\n",
    "y_bin = label_binarize(y_test, classes=[0, 1])\n",
    "\n",
    "# Compute ROC curve and ROC area for each class\n",
    "fpr, tpr, _ = roc_curve(y_bin, ab.predict_proba(x_test)[:, 1])  # Assuming binary classification\n",
    "roc_auc = auc(fpr, tpr)\n",
    "\n",
    "# Plot ROC curve\n",
    "plt.figure(figsize=(10, 8))\n",
    "plt.plot(fpr, tpr, color='darkorange', lw=2, label=f'ROC curve (area = {roc_auc:0.2f})')\n",
    "plt.plot([0, 1], [0, 1], color='navy', lw=2, linestyle='--')\n",
    "plt.xlim([0.0, 1.0])\n",
    "plt.ylim([0.0, 1.05])\n",
    "plt.xlabel('False Positive Rate')\n",
    "plt.ylabel('True Positive Rate')\n",
    "plt.title('Receiver Operating Characteristic (ROC) Curve')\n",
    "plt.legend(loc=\"lower right\")\n",
    "plt.show()\n"
   ]
  },
  {
   "cell_type": "code",
   "execution_count": null,
   "metadata": {},
   "outputs": [],
   "source": [
    "#F1 Score for AdaBoost\n",
    "from sklearn.metrics import f1_score\n",
    "f1 = f1_score(y_test, y_pred_dt, average='weighted')\n",
    "print(f'F1 Score of AdaBoost: {f1}')\n"
   ]
  }
 ],
 "metadata": {
  "kernelspec": {
   "display_name": "Python 3",
   "language": "python",
   "name": "python3"
  },
  "language_info": {
   "codemirror_mode": {
    "name": "ipython",
    "version": 3
   },
   "file_extension": ".py",
   "mimetype": "text/x-python",
   "name": "python",
   "nbconvert_exporter": "python",
   "pygments_lexer": "ipython3",
   "version": "3.12.1"
  }
 },
 "nbformat": 4,
 "nbformat_minor": 2
}
